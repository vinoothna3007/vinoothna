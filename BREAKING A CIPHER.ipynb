{
 "cells": [
  {
   "cell_type": "code",
   "execution_count": 1,
   "id": "07aa72ed",
   "metadata": {},
   "outputs": [
    {
     "name": "stdout",
     "output_type": "stream",
     "text": [
      "Requirement already satisfied: pygame in c:\\users\\vinoo\\anaconda3\\lib\\site-packages (2.2.0)\n"
     ]
    }
   ],
   "source": [
    "!pip install pygame"
   ]
  },
  {
   "cell_type": "code",
   "execution_count": 2,
   "id": "7e012a9a",
   "metadata": {},
   "outputs": [
    {
     "name": "stdout",
     "output_type": "stream",
     "text": [
      "pygame 2.2.0 (SDL 2.0.22, Python 3.9.13)\n",
      "Hello from the pygame community. https://www.pygame.org/contribute.html\n"
     ]
    }
   ],
   "source": [
    "import tkinter as tk\n",
    "import pygame\n",
    "\n",
    "# Initialize Pygame mixer and Pygame\n",
    "pygame.mixer.init()\n",
    "pygame.init()\n",
    "\n",
    "pygame.mixer.music.load(r\"C:\\Users\\vinoo\\Downloads\\file_example_MP3_1MG.mp3\")\n",
    "\n",
    "# Define cipher mappings\n",
    "LETTER = \"ABCDEFGHIJKLMNOPQRSTUVWXYZ\"\n",
    "KEY = \"JXRIDZTAQKEBHPWCOLFSVMGYUN\"\n",
    "\n",
    "def encipher(text):\n",
    "    text = text.upper().replace(\"\", \"\")\n",
    "    mapping = {chr(i+65): KEY[i] for i in range(26)}\n",
    "    return \"\".join([mapping.get(c, c) for c in text])\n",
    "\n",
    "def decipher(text):\n",
    "    mapping = {KEY[i]: chr(i+65) for i in range(26)}\n",
    "    return \"\".join([mapping.get(c, c) for c in text])\n",
    "\n",
    "def encipher_click():\n",
    "    pygame.mixer.Sound(r\"C:\\Users\\vinoo\\Downloads\\el_interface_button_22_hpx.mp3\").play()\n",
    "    text = input_text.get()\n",
    "    enciphered_text = encipher(text)\n",
    "    output_label.config(text=enciphered_text)\n",
    "\n",
    "def decipher_click():\n",
    "    pygame.mixer.Sound(r\"C:\\Users\\vinoo\\Downloads\\el_interface_button_22_hpx.mp3\").play()\n",
    "    text = input_text.get()\n",
    "    deciphered_text = decipher(text)\n",
    "    output_label.config(text=deciphered_text)\n",
    "    \n",
    "\n",
    "# Create main window\n",
    "main_window = tk.Tk()\n",
    "main_window.title(\"Breaking a Cipher\")\n",
    "main_window.geometry(\"400x400\")\n",
    "main_window['background'] = 'pink'\n",
    "\n",
    "# Create image object\n",
    "image = tk.PhotoImage(file=r\"C:\\Users\\vinoo\\Downloads\\alphabets.png\")\n",
    "\n",
    "# Create label to display image\n",
    "image_label = tk.Label(main_window, image=image)\n",
    "image_label.pack(padx=30, pady=30)\n",
    "\n",
    "# Bind a callback function to stop music when closing window\n",
    "def close_window():\n",
    "    pygame.mixer.music.stop()\n",
    "    main_window.destroy()\n",
    "\n",
    "main_window.protocol(\"WM_DELETE_WINDOW\", close_window)\n",
    "\n",
    "welcome_label = tk.Label(main_window, text=\"Welcome to Breaking a Cipher!\", font=(\"Arial\", 25))\n",
    "welcome_label.pack(padx=30, pady=30)\n",
    "\n",
    "#SHOW_INPUT_BOX\n",
    "def show_input_box():\n",
    "    start_button.pack_forget()\n",
    "    input_label.pack(padx=30, pady=30)\n",
    "    input_text.pack()\n",
    "    output_label.pack(padx=30, pady=30)\n",
    "    encipher_button.pack(padx=50, pady=10)\n",
    "    decipher_button.pack(padx=10, pady=10)\n",
    "\n",
    "# Create start button\n",
    "start_button_sound = pygame.mixer.Sound(r\"C:\\Users\\vinoo\\Downloads\\el_interface_button_22_hpx.mp3\")\n",
    "start_button = tk.Button(main_window, text=\"Start\", font=(\"Arial\", 14), command=show_input_box)\n",
    "start_button.pack(padx=30, pady=30)\n",
    "\n",
    "# Create input box and buttons\n",
    "input_label = tk.Label(main_window, text=\"Enter text to encipher/decipher:\")\n",
    "input_text = tk.Entry(main_window)\n",
    "output_label = tk.Label(main_window, text=\"OUTPUT\",height=3, width=20)\n",
    "encipher_button = tk.Button(main_window, text=\"Encipher\", command=encipher_click)\n",
    "decipher_button = tk.Button(main_window, text=\"Decipher\", command=decipher_click)\n",
    "\n",
    "# Bind sound file to start button click event\n",
    "def play_start_button_sound(event):\n",
    "    start_button_sound.play()\n",
    "\n",
    "start_button.bind(\"<Button-1>\", play_start_button_sound)\n",
    "\n",
    "# Play music file in a loop\n",
    "pygame.mixer.music.play(loops=-1)\n",
    "\n",
    "main_window.mainloop()\n"
   ]
  }
 ],
 "metadata": {
  "kernelspec": {
   "display_name": "Python 3 (ipykernel)",
   "language": "python",
   "name": "python3"
  },
  "language_info": {
   "codemirror_mode": {
    "name": "ipython",
    "version": 3
   },
   "file_extension": ".py",
   "mimetype": "text/x-python",
   "name": "python",
   "nbconvert_exporter": "python",
   "pygments_lexer": "ipython3",
   "version": "3.9.13"
  }
 },
 "nbformat": 4,
 "nbformat_minor": 5
}
